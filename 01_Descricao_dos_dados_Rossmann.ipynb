{
 "cells": [
  {
   "cell_type": "markdown",
   "id": "aa41a726",
   "metadata": {},
   "source": [
    "# 0.0. Importações"
   ]
  },
  {
   "cell_type": "code",
   "execution_count": 2,
   "id": "79460289",
   "metadata": {
    "ExecuteTime": {
     "end_time": "2021-11-15T19:04:45.335547Z",
     "start_time": "2021-11-15T19:04:42.477335Z"
    }
   },
   "outputs": [],
   "source": [
    "import pandas as pd\n",
    "import inflection\n",
    "import math\n",
    "import numpy as np\n",
    "import seaborn as sns\n",
    "import matplotlib.pyplot as plt\n",
    "\n",
    "from IPython.core.display import HTML"
   ]
  },
  {
   "cell_type": "markdown",
   "id": "1c082962",
   "metadata": {},
   "source": [
    "## 0.2. Carregar os Dados"
   ]
  },
  {
   "cell_type": "code",
   "execution_count": 3,
   "id": "20a34ab2",
   "metadata": {
    "ExecuteTime": {
     "end_time": "2021-11-15T19:04:47.201390Z",
     "start_time": "2021-11-15T19:04:45.336046Z"
    }
   },
   "outputs": [],
   "source": [
    "df_sales_raw = pd.read_csv( 'train.csv', low_memory= False )\n",
    "df_store_raw = pd.read_csv( 'store.csv', low_memory= False )\n",
    "\n",
    "\n",
    "# merge\n",
    "df_raw = pd.merge( df_sales_raw, df_store_raw, how = 'left', on = 'Store' )"
   ]
  },
  {
   "cell_type": "markdown",
   "id": "d32c6a98",
   "metadata": {},
   "source": [
    "# 1.0. Descrição dos Dados"
   ]
  },
  {
   "cell_type": "code",
   "execution_count": 4,
   "id": "a097dcca",
   "metadata": {
    "ExecuteTime": {
     "end_time": "2021-11-15T19:04:47.487507Z",
     "start_time": "2021-11-15T19:04:47.202407Z"
    }
   },
   "outputs": [],
   "source": [
    "df1 = df_raw.copy()"
   ]
  },
  {
   "cell_type": "markdown",
   "id": "27b8b232",
   "metadata": {},
   "source": [
    "## 1.1. Renomear Colunas"
   ]
  },
  {
   "cell_type": "code",
   "execution_count": 5,
   "id": "006611c6",
   "metadata": {
    "ExecuteTime": {
     "end_time": "2021-11-15T19:04:47.506817Z",
     "start_time": "2021-11-15T19:04:47.493799Z"
    }
   },
   "outputs": [],
   "source": [
    "old_cols = ['Store', 'DayOfWeek', 'Date', 'Sales', 'Customers', 'Open', 'Promo', 'StateHoliday', 'SchoolHoliday', \n",
    "            'StoreType', 'Assortment', 'CompetitionDistance', 'CompetitionOpenSinceMonth', 'CompetitionOpenSinceYear',\n",
    "            'Promo2', 'Promo2SinceWeek', 'Promo2SinceYear', 'PromoInterval']\n",
    "\n",
    "snakecase = lambda x: inflection.underscore( x )\n",
    "\n",
    "new_cols = list( map( snakecase, old_cols ))\n",
    "\n",
    "df1.columns = new_cols"
   ]
  },
  {
   "cell_type": "markdown",
   "id": "55ce2592",
   "metadata": {},
   "source": [
    "## 1.2. Dimensões dos Dados"
   ]
  },
  {
   "cell_type": "code",
   "execution_count": 6,
   "id": "3bc7bd15",
   "metadata": {
    "ExecuteTime": {
     "end_time": "2021-11-15T19:04:47.548869Z",
     "start_time": "2021-11-15T19:04:47.509068Z"
    }
   },
   "outputs": [
    {
     "name": "stdout",
     "output_type": "stream",
     "text": [
      "Numero de Linhas:  1017209\n",
      "Numero de Colunas: 18\n"
     ]
    }
   ],
   "source": [
    "print( 'Numero de Linhas:  {}'.format( df1.shape[0] ) )\n",
    "print( 'Numero de Colunas: {}'.format( df1.shape[1] ) )"
   ]
  },
  {
   "cell_type": "markdown",
   "id": "24856e82",
   "metadata": {},
   "source": [
    "## 1.3. Tipos de Dados"
   ]
  },
  {
   "cell_type": "code",
   "execution_count": 7,
   "id": "974a3bf2",
   "metadata": {
    "ExecuteTime": {
     "end_time": "2021-11-15T19:04:47.819565Z",
     "start_time": "2021-11-15T19:04:47.552303Z"
    }
   },
   "outputs": [
    {
     "data": {
      "text/plain": [
       "store                                    int64\n",
       "day_of_week                              int64\n",
       "date                            datetime64[ns]\n",
       "sales                                    int64\n",
       "customers                                int64\n",
       "open                                     int64\n",
       "promo                                    int64\n",
       "state_holiday                           object\n",
       "school_holiday                           int64\n",
       "store_type                              object\n",
       "assortment                              object\n",
       "competition_distance                   float64\n",
       "competition_open_since_month           float64\n",
       "competition_open_since_year            float64\n",
       "promo2                                   int64\n",
       "promo2_since_week                      float64\n",
       "promo2_since_year                      float64\n",
       "promo_interval                          object\n",
       "dtype: object"
      ]
     },
     "execution_count": 7,
     "metadata": {},
     "output_type": "execute_result"
    }
   ],
   "source": [
    "df1['date'] = pd.to_datetime( df1['date'] )\n",
    "df1.dtypes"
   ]
  },
  {
   "cell_type": "markdown",
   "id": "7d9ccd9b",
   "metadata": {},
   "source": [
    "## 1.4. Check NA"
   ]
  },
  {
   "cell_type": "code",
   "execution_count": 8,
   "id": "446732e6",
   "metadata": {
    "ExecuteTime": {
     "end_time": "2021-11-15T19:04:48.151559Z",
     "start_time": "2021-11-15T19:04:47.819565Z"
    }
   },
   "outputs": [
    {
     "data": {
      "text/plain": [
       "store                                0\n",
       "day_of_week                          0\n",
       "date                                 0\n",
       "sales                                0\n",
       "customers                            0\n",
       "open                                 0\n",
       "promo                                0\n",
       "state_holiday                        0\n",
       "school_holiday                       0\n",
       "store_type                           0\n",
       "assortment                           0\n",
       "competition_distance              2642\n",
       "competition_open_since_month    323348\n",
       "competition_open_since_year     323348\n",
       "promo2                               0\n",
       "promo2_since_week               508031\n",
       "promo2_since_year               508031\n",
       "promo_interval                  508031\n",
       "dtype: int64"
      ]
     },
     "execution_count": 8,
     "metadata": {},
     "output_type": "execute_result"
    }
   ],
   "source": [
    "df1.isna().sum()"
   ]
  },
  {
   "cell_type": "markdown",
   "id": "c7a0b13a",
   "metadata": {},
   "source": [
    "## 1.5. Fillout NA"
   ]
  },
  {
   "cell_type": "code",
   "execution_count": 9,
   "id": "10e1e443",
   "metadata": {
    "ExecuteTime": {
     "end_time": "2021-11-15T19:07:42.003240Z",
     "start_time": "2021-11-15T19:04:48.151559Z"
    }
   },
   "outputs": [],
   "source": [
    "# competition_distance\n",
    "df1['competition_distance'] = df1['competition_distance'].apply( lambda x: 20000.0 if math.isnan( x ) else x )\n",
    "\n",
    "# competition_open_since_month \n",
    "df1['competition_open_since_month'] = df1.apply( lambda x: x['date'].month if math.isnan( x['competition_open_since_month'] ) else x['competition_open_since_month'], axis = 1 )\n",
    "\n",
    "# competition_open_since_year  \n",
    "df1['competition_open_since_year'] = df1.apply( lambda x: x['date'].year if math.isnan( x['competition_open_since_year'] ) else x['competition_open_since_year'], axis = 1 )\n",
    "                      \n",
    "# promo2_since_week            \n",
    "df1['promo2_since_week'] = df1.apply( lambda x: x['date'].week if math.isnan( x['promo2_since_week'] ) else x['promo2_since_week'], axis = 1 )\n",
    "\n",
    "# promo2_since_year            \n",
    "df1['promo2_since_year'] = df1.apply( lambda x: x['date'].year if math.isnan( x['promo2_since_year'] ) else x['promo2_since_year'], axis = 1 )\n",
    "\n",
    "# promo_interval\n",
    "month_map = {1: 'Jan', 2: 'Fev', 3: 'Mar', 4: 'Apr', 5: 'May', 6: 'Jun', 7: 'Jul', 8: 'Aug', 9: 'Sep', 10: 'Out', 11: 'Nov', 12: 'Dec'}\n",
    "\n",
    "df1['promo_interval'].fillna(0, inplace = True)\n",
    "\n",
    "df1['month_map'] = df1['date'].dt.month.map( month_map )\n",
    "\n",
    "df1['is_promo'] = df1[['promo_interval', 'month_map']].apply( lambda x: 0 if x['promo_interval'] == 0 else 1 if x['month_map'] in x['promo_interval'].split( ',' ) else 0, axis = 1 )"
   ]
  },
  {
   "cell_type": "markdown",
   "id": "ef0cbd9b",
   "metadata": {},
   "source": [
    "## 1.6. Mundanca de Tipos"
   ]
  },
  {
   "cell_type": "code",
   "execution_count": 10,
   "id": "624efd65",
   "metadata": {
    "ExecuteTime": {
     "end_time": "2021-11-15T19:07:42.111864Z",
     "start_time": "2021-11-15T19:07:42.005864Z"
    }
   },
   "outputs": [],
   "source": [
    "df1['competition_open_since_month'] = df1['competition_open_since_month'].astype( 'int64' )\n",
    "df1['competition_open_since_year'] = df1['competition_open_since_year'].astype( 'int64' )\n",
    "\n",
    "df1['promo2_since_week'] = df1['promo2_since_week'].astype( 'int64' )\n",
    "df1['promo2_since_year'] = df1['promo2_since_year'].astype( 'int64' )"
   ]
  },
  {
   "cell_type": "markdown",
   "id": "94165d25",
   "metadata": {},
   "source": [
    "## 1.7. Estatítisca Descritiva"
   ]
  },
  {
   "cell_type": "code",
   "execution_count": 11,
   "id": "047c1abc",
   "metadata": {
    "ExecuteTime": {
     "end_time": "2021-11-15T19:07:42.401791Z",
     "start_time": "2021-11-15T19:07:42.116277Z"
    }
   },
   "outputs": [],
   "source": [
    "num_atributos = df1.select_dtypes( include = ['int64', 'float64'] )\n",
    "cat_atributos = df1.select_dtypes( exclude = ['int64', 'float64', 'datetime64[ns]'] )"
   ]
  },
  {
   "cell_type": "markdown",
   "id": "d5c9c8dc",
   "metadata": {},
   "source": [
    "### 1.7.1 Atributos Numéricos"
   ]
  },
  {
   "cell_type": "code",
   "execution_count": 12,
   "id": "aca221ef",
   "metadata": {
    "ExecuteTime": {
     "end_time": "2021-11-15T19:07:49.712742Z",
     "start_time": "2021-11-15T19:07:42.405195Z"
    }
   },
   "outputs": [
    {
     "data": {
      "text/html": [
       "<div>\n",
       "<style scoped>\n",
       "    .dataframe tbody tr th:only-of-type {\n",
       "        vertical-align: middle;\n",
       "    }\n",
       "\n",
       "    .dataframe tbody tr th {\n",
       "        vertical-align: top;\n",
       "    }\n",
       "\n",
       "    .dataframe thead th {\n",
       "        text-align: right;\n",
       "    }\n",
       "</style>\n",
       "<table border=\"1\" class=\"dataframe\">\n",
       "  <thead>\n",
       "    <tr style=\"text-align: right;\">\n",
       "      <th></th>\n",
       "      <th>Atributos</th>\n",
       "      <th>Min</th>\n",
       "      <th>Max</th>\n",
       "      <th>Range</th>\n",
       "      <th>Media</th>\n",
       "      <th>Mediana</th>\n",
       "      <th>STD</th>\n",
       "      <th>Skew</th>\n",
       "      <th>Kurtosis</th>\n",
       "    </tr>\n",
       "  </thead>\n",
       "  <tbody>\n",
       "    <tr>\n",
       "      <th>0</th>\n",
       "      <td>store</td>\n",
       "      <td>1.0</td>\n",
       "      <td>1115.0</td>\n",
       "      <td>1114.0</td>\n",
       "      <td>558.429727</td>\n",
       "      <td>558.0</td>\n",
       "      <td>321.908493</td>\n",
       "      <td>-0.000955</td>\n",
       "      <td>-1.200524</td>\n",
       "    </tr>\n",
       "    <tr>\n",
       "      <th>1</th>\n",
       "      <td>day_of_week</td>\n",
       "      <td>1.0</td>\n",
       "      <td>7.0</td>\n",
       "      <td>6.0</td>\n",
       "      <td>3.998341</td>\n",
       "      <td>4.0</td>\n",
       "      <td>1.997390</td>\n",
       "      <td>0.001593</td>\n",
       "      <td>-1.246873</td>\n",
       "    </tr>\n",
       "    <tr>\n",
       "      <th>2</th>\n",
       "      <td>sales</td>\n",
       "      <td>0.0</td>\n",
       "      <td>41551.0</td>\n",
       "      <td>41551.0</td>\n",
       "      <td>5773.818972</td>\n",
       "      <td>5744.0</td>\n",
       "      <td>3849.924283</td>\n",
       "      <td>0.641460</td>\n",
       "      <td>1.778375</td>\n",
       "    </tr>\n",
       "    <tr>\n",
       "      <th>3</th>\n",
       "      <td>customers</td>\n",
       "      <td>0.0</td>\n",
       "      <td>7388.0</td>\n",
       "      <td>7388.0</td>\n",
       "      <td>633.145946</td>\n",
       "      <td>609.0</td>\n",
       "      <td>464.411506</td>\n",
       "      <td>1.598650</td>\n",
       "      <td>7.091773</td>\n",
       "    </tr>\n",
       "    <tr>\n",
       "      <th>4</th>\n",
       "      <td>open</td>\n",
       "      <td>0.0</td>\n",
       "      <td>1.0</td>\n",
       "      <td>1.0</td>\n",
       "      <td>0.830107</td>\n",
       "      <td>1.0</td>\n",
       "      <td>0.375539</td>\n",
       "      <td>-1.758045</td>\n",
       "      <td>1.090723</td>\n",
       "    </tr>\n",
       "    <tr>\n",
       "      <th>5</th>\n",
       "      <td>promo</td>\n",
       "      <td>0.0</td>\n",
       "      <td>1.0</td>\n",
       "      <td>1.0</td>\n",
       "      <td>0.381515</td>\n",
       "      <td>0.0</td>\n",
       "      <td>0.485758</td>\n",
       "      <td>0.487838</td>\n",
       "      <td>-1.762018</td>\n",
       "    </tr>\n",
       "    <tr>\n",
       "      <th>6</th>\n",
       "      <td>school_holiday</td>\n",
       "      <td>0.0</td>\n",
       "      <td>1.0</td>\n",
       "      <td>1.0</td>\n",
       "      <td>0.178647</td>\n",
       "      <td>0.0</td>\n",
       "      <td>0.383056</td>\n",
       "      <td>1.677842</td>\n",
       "      <td>0.815154</td>\n",
       "    </tr>\n",
       "    <tr>\n",
       "      <th>7</th>\n",
       "      <td>competition_distance</td>\n",
       "      <td>20.0</td>\n",
       "      <td>75860.0</td>\n",
       "      <td>75840.0</td>\n",
       "      <td>5467.928135</td>\n",
       "      <td>2330.0</td>\n",
       "      <td>7740.896804</td>\n",
       "      <td>2.894723</td>\n",
       "      <td>12.724442</td>\n",
       "    </tr>\n",
       "    <tr>\n",
       "      <th>8</th>\n",
       "      <td>competition_open_since_month</td>\n",
       "      <td>1.0</td>\n",
       "      <td>12.0</td>\n",
       "      <td>11.0</td>\n",
       "      <td>6.786849</td>\n",
       "      <td>7.0</td>\n",
       "      <td>3.311085</td>\n",
       "      <td>-0.042076</td>\n",
       "      <td>-1.232607</td>\n",
       "    </tr>\n",
       "    <tr>\n",
       "      <th>9</th>\n",
       "      <td>competition_open_since_year</td>\n",
       "      <td>1900.0</td>\n",
       "      <td>2015.0</td>\n",
       "      <td>115.0</td>\n",
       "      <td>2010.324840</td>\n",
       "      <td>2012.0</td>\n",
       "      <td>5.515591</td>\n",
       "      <td>-7.235657</td>\n",
       "      <td>124.071304</td>\n",
       "    </tr>\n",
       "    <tr>\n",
       "      <th>10</th>\n",
       "      <td>promo2</td>\n",
       "      <td>0.0</td>\n",
       "      <td>1.0</td>\n",
       "      <td>1.0</td>\n",
       "      <td>0.500564</td>\n",
       "      <td>1.0</td>\n",
       "      <td>0.500000</td>\n",
       "      <td>-0.002255</td>\n",
       "      <td>-1.999999</td>\n",
       "    </tr>\n",
       "    <tr>\n",
       "      <th>11</th>\n",
       "      <td>promo2_since_week</td>\n",
       "      <td>1.0</td>\n",
       "      <td>52.0</td>\n",
       "      <td>51.0</td>\n",
       "      <td>23.619033</td>\n",
       "      <td>22.0</td>\n",
       "      <td>14.310057</td>\n",
       "      <td>0.178723</td>\n",
       "      <td>-1.184046</td>\n",
       "    </tr>\n",
       "    <tr>\n",
       "      <th>12</th>\n",
       "      <td>promo2_since_year</td>\n",
       "      <td>2009.0</td>\n",
       "      <td>2015.0</td>\n",
       "      <td>6.0</td>\n",
       "      <td>2012.793297</td>\n",
       "      <td>2013.0</td>\n",
       "      <td>1.662657</td>\n",
       "      <td>-0.784436</td>\n",
       "      <td>-0.210075</td>\n",
       "    </tr>\n",
       "    <tr>\n",
       "      <th>13</th>\n",
       "      <td>is_promo</td>\n",
       "      <td>0.0</td>\n",
       "      <td>1.0</td>\n",
       "      <td>1.0</td>\n",
       "      <td>0.138530</td>\n",
       "      <td>0.0</td>\n",
       "      <td>0.345455</td>\n",
       "      <td>2.092718</td>\n",
       "      <td>2.379475</td>\n",
       "    </tr>\n",
       "  </tbody>\n",
       "</table>\n",
       "</div>"
      ],
      "text/plain": [
       "                       Atributos     Min      Max    Range        Media  \\\n",
       "0                          store     1.0   1115.0   1114.0   558.429727   \n",
       "1                    day_of_week     1.0      7.0      6.0     3.998341   \n",
       "2                          sales     0.0  41551.0  41551.0  5773.818972   \n",
       "3                      customers     0.0   7388.0   7388.0   633.145946   \n",
       "4                           open     0.0      1.0      1.0     0.830107   \n",
       "5                          promo     0.0      1.0      1.0     0.381515   \n",
       "6                 school_holiday     0.0      1.0      1.0     0.178647   \n",
       "7           competition_distance    20.0  75860.0  75840.0  5467.928135   \n",
       "8   competition_open_since_month     1.0     12.0     11.0     6.786849   \n",
       "9    competition_open_since_year  1900.0   2015.0    115.0  2010.324840   \n",
       "10                        promo2     0.0      1.0      1.0     0.500564   \n",
       "11             promo2_since_week     1.0     52.0     51.0    23.619033   \n",
       "12             promo2_since_year  2009.0   2015.0      6.0  2012.793297   \n",
       "13                      is_promo     0.0      1.0      1.0     0.138530   \n",
       "\n",
       "    Mediana          STD      Skew    Kurtosis  \n",
       "0     558.0   321.908493 -0.000955   -1.200524  \n",
       "1       4.0     1.997390  0.001593   -1.246873  \n",
       "2    5744.0  3849.924283  0.641460    1.778375  \n",
       "3     609.0   464.411506  1.598650    7.091773  \n",
       "4       1.0     0.375539 -1.758045    1.090723  \n",
       "5       0.0     0.485758  0.487838   -1.762018  \n",
       "6       0.0     0.383056  1.677842    0.815154  \n",
       "7    2330.0  7740.896804  2.894723   12.724442  \n",
       "8       7.0     3.311085 -0.042076   -1.232607  \n",
       "9    2012.0     5.515591 -7.235657  124.071304  \n",
       "10      1.0     0.500000 -0.002255   -1.999999  \n",
       "11     22.0    14.310057  0.178723   -1.184046  \n",
       "12   2013.0     1.662657 -0.784436   -0.210075  \n",
       "13      0.0     0.345455  2.092718    2.379475  "
      ]
     },
     "execution_count": 12,
     "metadata": {},
     "output_type": "execute_result"
    }
   ],
   "source": [
    "# tendencia central - mean, median\n",
    "tc1 = pd.DataFrame( num_atributos.apply( np.mean ) ).T\n",
    "tc2 = pd.DataFrame( num_atributos.apply( np.median ) ).T\n",
    "\n",
    "# dispersao - max, min, std, range, skew, kurtosis\n",
    "d1 = pd.DataFrame( num_atributos.apply( max ) ).T\n",
    "d2 = pd.DataFrame( num_atributos.apply( min ) ).T\n",
    "d3 = pd.DataFrame( num_atributos.apply( np.std ) ).T\n",
    "d4 = pd.DataFrame( num_atributos.apply( lambda x: x.max() - x.min() ) ).T\n",
    "d5 = pd.DataFrame( num_atributos.apply( lambda x: x.skew() ) ).T\n",
    "d6 = pd.DataFrame( num_atributos.apply( lambda x: x.kurtosis() ) ).T\n",
    "\n",
    "#concat\n",
    "m = pd.concat( [d2, d1, d4, tc1, tc2, d3, d5, d6] ).T.reset_index()\n",
    "m.columns = ['Atributos', 'Min', 'Max', 'Range', 'Media', 'Mediana', 'STD', 'Skew', 'Kurtosis']\n",
    "\n",
    "m"
   ]
  },
  {
   "cell_type": "markdown",
   "id": "ac016565",
   "metadata": {},
   "source": [
    "### 1.7.2 Atributos Categoricos"
   ]
  },
  {
   "cell_type": "code",
   "execution_count": 34,
   "id": "47009bfb",
   "metadata": {
    "ExecuteTime": {
     "end_time": "2021-11-08T23:15:12.269167Z",
     "start_time": "2021-11-08T23:15:12.073412Z"
    }
   },
   "outputs": [
    {
     "data": {
      "text/plain": [
       "state_holiday      4\n",
       "store_type         4\n",
       "assortment         3\n",
       "promo_interval     4\n",
       "month_map         12\n",
       "dtype: int64"
      ]
     },
     "execution_count": 34,
     "metadata": {},
     "output_type": "execute_result"
    }
   ],
   "source": [
    "cat_atributos.apply( lambda x: x.unique().shape[0] )"
   ]
  },
  {
   "cell_type": "code",
   "execution_count": 49,
   "id": "070df6c5",
   "metadata": {
    "ExecuteTime": {
     "end_time": "2021-11-08T23:32:27.698516Z",
     "start_time": "2021-11-08T23:32:27.312412Z"
    }
   },
   "outputs": [
    {
     "data": {
      "image/png": "[encoded data removed]",
      "text/plain": [
       "<Figure size 1080x576 with 3 Axes>"
      ]
     },
     "metadata": {
      "needs_background": "light"
     },
     "output_type": "display_data"
    }
   ],
   "source": [
    "aux1 = df1[( df1['state_holiday'] != '0' ) & ( df1['sales'] > 0 ) ]\n",
    "\n",
    "plt.figure( figsize=( 15,8 ) )\n",
    "\n",
    "plt.subplot( 1, 3, 1 )\n",
    "sns.boxplot( x= 'state_holiday', y='sales' , data=aux1 )\n",
    "\n",
    "plt.subplot( 1, 3, 2 )\n",
    "sns.boxplot( x= 'store_type', y='sales', data= aux1 )\n",
    "\n",
    "plt.subplot( 1, 3, 3 )\n",
    "sns.boxplot( x= 'assortment', y = 'sales', data= aux1 );"
   ]
  },
  {
   "cell_type": "markdown",
   "id": "b8b83ff8",
   "metadata": {},
   "source": [
    "## 1.8."
   ]
  },
  {
   "cell_type": "code",
   "execution_count": null,
   "id": "a32a0ac0",
   "metadata": {},
   "outputs": [],
   "source": []
  },
  {
   "cell_type": "code",
   "execution_count": null,
   "id": "bac983c9",
   "metadata": {},
   "outputs": [],
   "source": []
  }
 ],
 "metadata": {
  "kernelspec": {
   "display_name": "Python 3 (ipykernel)",
   "language": "python",
   "name": "python3"
  },
  "language_info": {
   "codemirror_mode": {
    "name": "ipython",
    "version": 3
   },
   "file_extension": ".py",
   "mimetype": "text/x-python",
   "name": "python",
   "nbconvert_exporter": "python",
   "pygments_lexer": "ipython3",
   "version": "3.8.12"
  }
 },
 "nbformat": 4,
 "nbformat_minor": 5
}
