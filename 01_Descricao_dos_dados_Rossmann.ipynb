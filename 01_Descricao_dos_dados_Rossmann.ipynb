{
 "cells": [
  {
   "cell_type": "markdown",
   "id": "aa41a726",
   "metadata": {
    "heading_collapsed": true
   },
   "source": [
    "# 0.0. Importações"
   ]
  },
  {
   "cell_type": "code",
   "execution_count": 35,
   "id": "79460289",
   "metadata": {
    "ExecuteTime": {
     "end_time": "2021-11-08T23:16:05.874008Z",
     "start_time": "2021-11-08T23:16:05.865858Z"
    },
    "hidden": true
   },
   "outputs": [],
   "source": [
    "import pandas as pd\n",
    "import inflection\n",
    "import math\n",
    "import numpy as np\n",
    "import seaborn as sns\n",
    "import matplotlib.pyplot as plt\n",
    "\n",
    "from IPython.core.display import HTML"
   ]
  },
  {
   "cell_type": "markdown",
   "id": "1c082962",
   "metadata": {
    "hidden": true
   },
   "source": [
    "## 0.2. Carregar os Dados"
   ]
  },
  {
   "cell_type": "code",
   "execution_count": 2,
   "id": "20a34ab2",
   "metadata": {
    "ExecuteTime": {
     "end_time": "2021-11-08T23:04:40.894040Z",
     "start_time": "2021-11-08T23:04:39.691091Z"
    },
    "hidden": true
   },
   "outputs": [],
   "source": [
    "df_sales_raw = pd.read_csv( 'train.csv', low_memory= False )\n",
    "df_store_raw = pd.read_csv( 'store.csv', low_memory= False )\n",
    "\n",
    "\n",
    "# merge\n",
    "df_raw = pd.merge( df_sales_raw, df_store_raw, how = 'left', on = 'Store' )"
   ]
  },
  {
   "cell_type": "markdown",
   "id": "d32c6a98",
   "metadata": {
    "heading_collapsed": true
   },
   "source": [
    "# 1.0. Descrição dos Dados"
   ]
  },
  {
   "cell_type": "code",
   "execution_count": 3,
   "id": "a097dcca",
   "metadata": {
    "ExecuteTime": {
     "end_time": "2021-11-08T23:04:40.971196Z",
     "start_time": "2021-11-08T23:04:40.894040Z"
    },
    "hidden": true
   },
   "outputs": [],
   "source": [
    "df1 = df_raw.copy()"
   ]
  },
  {
   "cell_type": "markdown",
   "id": "27b8b232",
   "metadata": {
    "hidden": true
   },
   "source": [
    "## 1.1. Renomear Colunas"
   ]
  },
  {
   "cell_type": "code",
   "execution_count": 4,
   "id": "006611c6",
   "metadata": {
    "ExecuteTime": {
     "end_time": "2021-11-08T23:04:40.987092Z",
     "start_time": "2021-11-08T23:04:40.971196Z"
    },
    "hidden": true
   },
   "outputs": [],
   "source": [
    "old_cols = ['Store', 'DayOfWeek', 'Date', 'Sales', 'Customers', 'Open', 'Promo', 'StateHoliday', 'SchoolHoliday', \n",
    "            'StoreType', 'Assortment', 'CompetitionDistance', 'CompetitionOpenSinceMonth', 'CompetitionOpenSinceYear',\n",
    "            'Promo2', 'Promo2SinceWeek', 'Promo2SinceYear', 'PromoInterval']\n",
    "\n",
    "snakecase = lambda x: inflection.underscore( x )\n",
    "\n",
    "new_cols = list( map( snakecase, old_cols ))\n",
    "\n",
    "df1.columns = new_cols"
   ]
  },
  {
   "cell_type": "markdown",
   "id": "55ce2592",
   "metadata": {
    "hidden": true
   },
   "source": [
    "## 1.2. Dimensões dos Dados"
   ]
  },
  {
   "cell_type": "code",
   "execution_count": 5,
   "id": "3bc7bd15",
   "metadata": {
    "ExecuteTime": {
     "end_time": "2021-11-08T23:04:41.003300Z",
     "start_time": "2021-11-08T23:04:40.987092Z"
    },
    "hidden": true
   },
   "outputs": [
    {
     "name": "stdout",
     "output_type": "stream",
     "text": [
      "Numero de Linhas:  1017209\n",
      "Numero de Colunas: 18\n"
     ]
    }
   ],
   "source": [
    "print( 'Numero de Linhas:  {}'.format( df1.shape[0] ) )\n",
    "print( 'Numero de Colunas: {}'.format( df1.shape[1] ) )"
   ]
  },
  {
   "cell_type": "markdown",
   "id": "24856e82",
   "metadata": {
    "hidden": true
   },
   "source": [
    "## 1.3. Tipos de Dados"
   ]
  },
  {
   "cell_type": "code",
   "execution_count": 6,
   "id": "974a3bf2",
   "metadata": {
    "ExecuteTime": {
     "end_time": "2021-11-08T23:04:41.166269Z",
     "start_time": "2021-11-08T23:04:41.004457Z"
    },
    "hidden": true
   },
   "outputs": [
    {
     "data": {
      "text/plain": [
       "store                                    int64\n",
       "day_of_week                              int64\n",
       "date                            datetime64[ns]\n",
       "sales                                    int64\n",
       "customers                                int64\n",
       "open                                     int64\n",
       "promo                                    int64\n",
       "state_holiday                           object\n",
       "school_holiday                           int64\n",
       "store_type                              object\n",
       "assortment                              object\n",
       "competition_distance                   float64\n",
       "competition_open_since_month           float64\n",
       "competition_open_since_year            float64\n",
       "promo2                                   int64\n",
       "promo2_since_week                      float64\n",
       "promo2_since_year                      float64\n",
       "promo_interval                          object\n",
       "dtype: object"
      ]
     },
     "execution_count": 6,
     "metadata": {},
     "output_type": "execute_result"
    }
   ],
   "source": [
    "df1['date'] = pd.to_datetime( df1['date'] )\n",
    "df1.dtypes"
   ]
  },
  {
   "cell_type": "markdown",
   "id": "7d9ccd9b",
   "metadata": {
    "hidden": true
   },
   "source": [
    "## 1.4. Check NA"
   ]
  },
  {
   "cell_type": "code",
   "execution_count": 7,
   "id": "446732e6",
   "metadata": {
    "ExecuteTime": {
     "end_time": "2021-11-08T23:04:41.348188Z",
     "start_time": "2021-11-08T23:04:41.166269Z"
    },
    "hidden": true
   },
   "outputs": [
    {
     "data": {
      "text/plain": [
       "store                                0\n",
       "day_of_week                          0\n",
       "date                                 0\n",
       "sales                                0\n",
       "customers                            0\n",
       "open                                 0\n",
       "promo                                0\n",
       "state_holiday                        0\n",
       "school_holiday                       0\n",
       "store_type                           0\n",
       "assortment                           0\n",
       "competition_distance              2642\n",
       "competition_open_since_month    323348\n",
       "competition_open_since_year     323348\n",
       "promo2                               0\n",
       "promo2_since_week               508031\n",
       "promo2_since_year               508031\n",
       "promo_interval                  508031\n",
       "dtype: int64"
      ]
     },
     "execution_count": 7,
     "metadata": {},
     "output_type": "execute_result"
    }
   ],
   "source": [
    "df1.isna().sum()"
   ]
  },
  {
   "cell_type": "markdown",
   "id": "c7a0b13a",
   "metadata": {
    "hidden": true
   },
   "source": [
    "## 1.5. Fillout NA"
   ]
  },
  {
   "cell_type": "code",
   "execution_count": 8,
   "id": "10e1e443",
   "metadata": {
    "ExecuteTime": {
     "end_time": "2021-11-08T23:05:43.018322Z",
     "start_time": "2021-11-08T23:04:41.350576Z"
    },
    "hidden": true
   },
   "outputs": [],
   "source": [
    "# competition_distance\n",
    "df1['competition_distance'] = df1['competition_distance'].apply( lambda x: 20000.0 if math.isnan( x ) else x )\n",
    "\n",
    "# competition_open_since_month \n",
    "df1['competition_open_since_month'] = df1.apply( lambda x: x['date'].month if math.isnan( x['competition_open_since_month'] ) else x['competition_open_since_month'], axis = 1 )\n",
    "\n",
    "# competition_open_since_year  \n",
    "df1['competition_open_since_year'] = df1.apply( lambda x: x['date'].year if math.isnan( x['competition_open_since_year'] ) else x['competition_open_since_year'], axis = 1 )\n",
    "                      \n",
    "# promo2_since_week            \n",
    "df1['promo2_since_week'] = df1.apply( lambda x: x['date'].week if math.isnan( x['promo2_since_week'] ) else x['promo2_since_week'], axis = 1 )\n",
    "\n",
    "# promo2_since_year            \n",
    "df1['promo2_since_year'] = df1.apply( lambda x: x['date'].year if math.isnan( x['promo2_since_year'] ) else x['promo2_since_year'], axis = 1 )\n",
    "\n",
    "# promo_interval\n",
    "month_map = {1: 'Jan', 2: 'Fev', 3: 'Mar', 4: 'Apr', 5: 'May', 6: 'Jun', 7: 'Jul', 8: 'Aug', 9: 'Sep', 10: 'Out', 11: 'Nov', 12: 'Dec'}\n",
    "\n",
    "df1['promo_interval'].fillna(0, inplace = True)\n",
    "\n",
    "df1['month_map'] = df1['date'].dt.month.map( month_map )\n",
    "\n",
    "df1['is_promo'] = df1[['promo_interval', 'month_map']].apply( lambda x: 0 if x['promo_interval'] == 0 else 1 if x['month_map'] in x['promo_interval'].split( ',' ) else 0, axis = 1 )"
   ]
  },
  {
   "cell_type": "markdown",
   "id": "ef0cbd9b",
   "metadata": {
    "hidden": true
   },
   "source": [
    "## 1.6. Dundança de Tipos"
   ]
  },
  {
   "cell_type": "code",
   "execution_count": 9,
   "id": "624efd65",
   "metadata": {
    "ExecuteTime": {
     "end_time": "2021-11-08T23:05:43.100516Z",
     "start_time": "2021-11-08T23:05:43.020731Z"
    },
    "hidden": true
   },
   "outputs": [],
   "source": [
    "df1['competition_open_since_month'] = df1['competition_open_since_month'].astype( 'int64' )\n",
    "df1['competition_open_since_year'] = df1['competition_open_since_year'].astype( 'int64' )\n",
    "\n",
    "df1['promo2_since_week'] = df1['promo2_since_week'].astype( 'int64' )\n",
    "df1['promo2_since_year'] = df1['promo2_since_year'].astype( 'int64' )"
   ]
  },
  {
   "cell_type": "markdown",
   "id": "94165d25",
   "metadata": {
    "hidden": true
   },
   "source": [
    "## 1.7. Estatítisca Descritiva"
   ]
  },
  {
   "cell_type": "code",
   "execution_count": 10,
   "id": "047c1abc",
   "metadata": {
    "ExecuteTime": {
     "end_time": "2021-11-08T23:05:43.284210Z",
     "start_time": "2021-11-08T23:05:43.104003Z"
    },
    "hidden": true
   },
   "outputs": [],
   "source": [
    "num_atributos = df1.select_dtypes( include = ['int64', 'float64'] )\n",
    "cat_atributos = df1.select_dtypes( exclude = ['int64', 'float64', 'datetime64[ns]'] )"
   ]
  },
  {
   "cell_type": "markdown",
   "id": "d5c9c8dc",
   "metadata": {
    "hidden": true
   },
   "source": [
    "### 1.7.1 Atributos Numéricos"
   ]
  },
  {
   "cell_type": "code",
   "execution_count": 11,
   "id": "aca221ef",
   "metadata": {
    "ExecuteTime": {
     "end_time": "2021-11-08T23:05:46.417550Z",
     "start_time": "2021-11-08T23:05:43.284210Z"
    },
    "hidden": true
   },
   "outputs": [],
   "source": [
    "# tendencia central - mean, median\n",
    "tc1 = pd.DataFrame( num_atributos.apply( np.mean ) ).T\n",
    "tc2 = pd.DataFrame( num_atributos.apply( np.median ) ).T\n",
    "\n",
    "# dispersao - max, min, std, range, skew, kurtosis\n",
    "d1 = pd.DataFrame( num_atributos.apply( max ) ).T\n",
    "d2 = pd.DataFrame( num_atributos.apply( min ) ).T\n",
    "d3 = pd.DataFrame( num_atributos.apply( np.std ) ).T\n",
    "d4 = pd.DataFrame( num_atributos.apply( lambda x: x.max() - x.min() ) ).T\n",
    "d5 = pd.DataFrame( num_atributos.apply( lambda x: x.skew() ) ).T\n",
    "d6 = pd.DataFrame( num_atributos.apply( lambda x: x.kurtosis() ) ).T\n",
    "\n",
    "#concat\n",
    "m = pd.concat( [d2, d1, d4, tc1, tc2, d3, d5, d6] ).T.reset_index()\n",
    "m.columns = ['Atributos', 'Min', 'Max', 'Range', 'Media', 'Mediana', 'STD', 'Skew', 'Kurtosis']"
   ]
  },
  {
   "cell_type": "code",
   "execution_count": 39,
   "id": "df7a24aa",
   "metadata": {
    "ExecuteTime": {
     "end_time": "2021-11-08T23:24:10.888352Z",
     "start_time": "2021-11-08T23:24:04.016502Z"
    },
    "hidden": true
   },
   "outputs": [
    {
     "name": "stderr",
     "output_type": "stream",
     "text": [
      "C:\\Users\\Criso\\anaconda3\\lib\\site-packages\\seaborn\\distributions.py:2557: FutureWarning: `distplot` is a deprecated function and will be removed in a future version. Please adapt your code to use either `displot` (a figure-level function with similar flexibility) or `histplot` (an axes-level function for histograms).\n",
      "  warnings.warn(msg, FutureWarning)\n"
     ]
    },
    {
     "data": {
      "image/png": "[encoded data removed]",
      "text/plain": [
       "<Figure size 864x576 with 1 Axes>"
      ]
     },
     "metadata": {
      "needs_background": "light"
     },
     "output_type": "display_data"
    }
   ],
   "source": [
    "plt.figure( figsize=( 12,8 ) )\n",
    "sns.distplot( df1['competition_distance'] );"
   ]
  },
  {
   "cell_type": "markdown",
   "id": "ac016565",
   "metadata": {
    "hidden": true
   },
   "source": [
    "### 1.7.2 Atributos Numéricos"
   ]
  },
  {
   "cell_type": "code",
   "execution_count": 34,
   "id": "47009bfb",
   "metadata": {
    "ExecuteTime": {
     "end_time": "2021-11-08T23:15:12.269167Z",
     "start_time": "2021-11-08T23:15:12.073412Z"
    },
    "hidden": true
   },
   "outputs": [
    {
     "data": {
      "text/plain": [
       "state_holiday      4\n",
       "store_type         4\n",
       "assortment         3\n",
       "promo_interval     4\n",
       "month_map         12\n",
       "dtype: int64"
      ]
     },
     "execution_count": 34,
     "metadata": {},
     "output_type": "execute_result"
    }
   ],
   "source": [
    "cat_atributos.apply( lambda x: x.unique().shape[0] )"
   ]
  },
  {
   "cell_type": "code",
   "execution_count": 49,
   "id": "070df6c5",
   "metadata": {
    "ExecuteTime": {
     "end_time": "2021-11-08T23:32:27.698516Z",
     "start_time": "2021-11-08T23:32:27.312412Z"
    },
    "hidden": true
   },
   "outputs": [
    {
     "data": {
      "image/png": "[encoded data removed]",
      "text/plain": [
       "<Figure size 1080x576 with 3 Axes>"
      ]
     },
     "metadata": {
      "needs_background": "light"
     },
     "output_type": "display_data"
    }
   ],
   "source": [
    "aux1 = df1[( df1['state_holiday'] != '0' ) & ( df1['sales'] > 0 ) ]\n",
    "\n",
    "plt.figure( figsize=( 15,8 ) )\n",
    "\n",
    "plt.subplot( 1, 3, 1 )\n",
    "sns.boxplot( x= 'state_holiday', y='sales' , data=aux1 )\n",
    "\n",
    "plt.subplot( 1, 3, 2 )\n",
    "sns.boxplot( x= 'store_type', y='sales', data= aux1 )\n",
    "\n",
    "plt.subplot( 1, 3, 3 )\n",
    "sns.boxplot( x= 'assortment', y = 'sales', data= aux1 );"
   ]
  },
  {
   "cell_type": "markdown",
   "id": "b8b83ff8",
   "metadata": {
    "hidden": true
   },
   "source": [
    "## 1.8."
   ]
  },
  {
   "cell_type": "code",
   "execution_count": null,
   "id": "a32a0ac0",
   "metadata": {
    "hidden": true
   },
   "outputs": [],
   "source": []
  },
  {
   "cell_type": "code",
   "execution_count": null,
   "id": "bac983c9",
   "metadata": {
    "hidden": true
   },
   "outputs": [],
   "source": []
  }
 ],
 "metadata": {
  "kernelspec": {
   "display_name": "Python 3",
   "language": "python",
   "name": "python3"
  },
  "language_info": {
   "codemirror_mode": {
    "name": "ipython",
    "version": 3
   },
   "file_extension": ".py",
   "mimetype": "text/x-python",
   "name": "python",
   "nbconvert_exporter": "python",
   "pygments_lexer": "ipython3",
   "version": "3.8.8"
  }
 },
 "nbformat": 4,
 "nbformat_minor": 5
}
